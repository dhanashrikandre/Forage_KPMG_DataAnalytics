{
 "cells": [
  {
   "cell_type": "code",
   "execution_count": null,
   "id": "784d4465",
   "metadata": {},
   "outputs": [],
   "source": [
    "#EDA"
   ]
  },
  {
   "cell_type": "code",
   "execution_count": 1,
   "id": "4bc92282",
   "metadata": {},
   "outputs": [
    {
     "name": "stderr",
     "output_type": "stream",
     "text": [
      "C:\\Users\\Pranchali\\AppData\\Local\\Temp\\ipykernel_15708\\2973115457.py:4: FutureWarning: Inferring datetime64[ns] from data containing strings is deprecated and will be removed in a future version. To retain the old behavior explicitly pass Series(data, dtype=datetime64[ns])\n",
      "  newcust=pd.read_excel(path, sheet_name=\"NewCustomerList\", header=1)\n",
      "C:\\Users\\Pranchali\\AppData\\Local\\Temp\\ipykernel_15708\\2973115457.py:5: FutureWarning: Inferring datetime64[ns] from data containing strings is deprecated and will be removed in a future version. To retain the old behavior explicitly pass Series(data, dtype=datetime64[ns])\n",
      "  cdemo=pd.read_excel(path, sheet_name=\"CustomerDemographic\", header=1)\n"
     ]
    }
   ],
   "source": [
    "import pandas as pd\n",
    "path=r\"C:\\path\\KPMG_VI_New_raw_data_update_final.xlsx\"\n",
    "tran=pd.read_excel(path, sheet_name=\"Transactions\", header=1)\n",
    "newcust=pd.read_excel(path, sheet_name=\"NewCustomerList\", header=1)\n",
    "cdemo=pd.read_excel(path, sheet_name=\"CustomerDemographic\", header=1)\n",
    "cadd=pd.read_excel(path, sheet_name=\"CustomerAddress\", header=1)"
   ]
  },
  {
   "cell_type": "code",
   "execution_count": 2,
   "id": "c86c348e",
   "metadata": {},
   "outputs": [
    {
     "name": "stdout",
     "output_type": "stream",
     "text": [
      "Transactions  (20000, 13)\n",
      "CustomerDemographic  (4000, 13)\n",
      "CustomerAddress  (3999, 6)\n"
     ]
    }
   ],
   "source": [
    "print(\"Transactions \",tran.shape)\n",
    "print(\"CustomerDemographic \",cdemo.shape)\n",
    "print(\"CustomerAddress \",cadd.shape)"
   ]
  },
  {
   "cell_type": "code",
   "execution_count": null,
   "id": "cc2a74d1",
   "metadata": {},
   "outputs": [],
   "source": [
    "cdemo.head()"
   ]
  },
  {
   "cell_type": "code",
   "execution_count": null,
   "id": "de7c456a",
   "metadata": {},
   "outputs": [],
   "source": [
    "#CustomerDemographic dataset cleaning"
   ]
  },
  {
   "cell_type": "code",
   "execution_count": null,
   "id": "1d1b0bd6",
   "metadata": {},
   "outputs": [],
   "source": [
    "cdemo.info()"
   ]
  },
  {
   "cell_type": "code",
   "execution_count": 3,
   "id": "28a5787a",
   "metadata": {},
   "outputs": [
    {
     "data": {
      "text/plain": [
       "0"
      ]
     },
     "execution_count": 3,
     "metadata": {},
     "output_type": "execute_result"
    }
   ],
   "source": [
    "cdemo.duplicated().sum()"
   ]
  },
  {
   "cell_type": "code",
   "execution_count": null,
   "id": "c94bc79e",
   "metadata": {},
   "outputs": [],
   "source": [
    "#there are no duplicates in this dataset"
   ]
  },
  {
   "cell_type": "code",
   "execution_count": 3,
   "id": "626819c3",
   "metadata": {},
   "outputs": [],
   "source": [
    "#drop default column as it contains irrelevant values\n",
    "cdemo=cdemo.drop(['default'], axis=1)"
   ]
  },
  {
   "cell_type": "code",
   "execution_count": 5,
   "id": "ac3d3ae8",
   "metadata": {},
   "outputs": [
    {
     "data": {
      "text/plain": [
       "job_industry_category                  656\n",
       "job_title                              506\n",
       "last_name                              125\n",
       "DOB                                     87\n",
       "tenure                                  87\n",
       "customer_id                              0\n",
       "first_name                               0\n",
       "gender                                   0\n",
       "past_3_years_bike_related_purchases      0\n",
       "wealth_segment                           0\n",
       "deceased_indicator                       0\n",
       "owns_car                                 0\n",
       "dtype: int64"
      ]
     },
     "execution_count": 5,
     "metadata": {},
     "output_type": "execute_result"
    }
   ],
   "source": [
    "#check null values in each column\n",
    "round((cdemo.isnull().sum())).sort_values(ascending=False)"
   ]
  },
  {
   "cell_type": "code",
   "execution_count": 4,
   "id": "4401a4c6",
   "metadata": {},
   "outputs": [],
   "source": [
    "#for object columns impute values with n/a\n",
    "cdemo['job_industry_category']=cdemo['job_industry_category'].fillna(\"na\")\n",
    "cdemo['job_title']=cdemo['job_title'].fillna(\"na\")\n",
    "cdemo['last_name']=cdemo['last_name'].fillna(\"na\")"
   ]
  },
  {
   "cell_type": "code",
   "execution_count": null,
   "id": "a6971e65",
   "metadata": {},
   "outputs": [],
   "source": [
    "#as the dataset is for the timeperiod of 2017, age will be calculated as of 2017"
   ]
  },
  {
   "cell_type": "code",
   "execution_count": 5,
   "id": "7f7971d2",
   "metadata": {},
   "outputs": [],
   "source": [
    "cdemo['DOB']=pd.to_datetime(cdemo['DOB'])\n",
    "current_year=2017\n",
    "cdemo['Age']=current_year-cdemo['DOB'].dt.year"
   ]
  },
  {
   "cell_type": "code",
   "execution_count": 6,
   "id": "8428a0cf",
   "metadata": {},
   "outputs": [
    {
     "name": "stdout",
     "output_type": "stream",
     "text": [
      "<class 'pandas.core.frame.DataFrame'>\n",
      "RangeIndex: 4000 entries, 0 to 3999\n",
      "Data columns (total 13 columns):\n",
      " #   Column                               Non-Null Count  Dtype         \n",
      "---  ------                               --------------  -----         \n",
      " 0   customer_id                          4000 non-null   int64         \n",
      " 1   first_name                           4000 non-null   object        \n",
      " 2   last_name                            4000 non-null   object        \n",
      " 3   gender                               4000 non-null   object        \n",
      " 4   past_3_years_bike_related_purchases  4000 non-null   int64         \n",
      " 5   DOB                                  3913 non-null   datetime64[ns]\n",
      " 6   job_title                            4000 non-null   object        \n",
      " 7   job_industry_category                4000 non-null   object        \n",
      " 8   wealth_segment                       4000 non-null   object        \n",
      " 9   deceased_indicator                   4000 non-null   object        \n",
      " 10  owns_car                             4000 non-null   object        \n",
      " 11  tenure                               4000 non-null   float64       \n",
      " 12  Age                                  4000 non-null   float64       \n",
      "dtypes: datetime64[ns](1), float64(2), int64(2), object(8)\n",
      "memory usage: 406.4+ KB\n"
     ]
    }
   ],
   "source": [
    "#impute age and tenure with mode\n",
    "agemode=int(cdemo['Age'].mode())\n",
    "tenuremode=int(cdemo['tenure'].mode())\n",
    "cdemo['Age'].fillna(agemode, inplace=True)\n",
    "cdemo['tenure'].fillna(tenuremode, inplace=True)\n",
    "cdemo.info()"
   ]
  },
  {
   "cell_type": "code",
   "execution_count": null,
   "id": "923bb8c8",
   "metadata": {},
   "outputs": [],
   "source": [
    "cdemo.head()"
   ]
  },
  {
   "cell_type": "code",
   "execution_count": 9,
   "id": "20985a9b",
   "metadata": {},
   "outputs": [
    {
     "data": {
      "text/plain": [
       "Female    2037\n",
       "Male      1872\n",
       "U           88\n",
       "F            1\n",
       "Femal        1\n",
       "M            1\n",
       "Name: gender, dtype: int64"
      ]
     },
     "execution_count": 9,
     "metadata": {},
     "output_type": "execute_result"
    }
   ],
   "source": [
    "#normalize gender column\n",
    "cdemo['gender'].value_counts()"
   ]
  },
  {
   "cell_type": "code",
   "execution_count": 7,
   "id": "949b90f9",
   "metadata": {},
   "outputs": [
    {
     "data": {
      "text/plain": [
       "F    2039\n",
       "M    1873\n",
       "U      88\n",
       "Name: gender, dtype: int64"
      ]
     },
     "execution_count": 7,
     "metadata": {},
     "output_type": "execute_result"
    }
   ],
   "source": [
    "cdemo['gender']=cdemo['gender'].replace('Female', 'F').replace('Femal', 'F').replace('Male','M')\n",
    "cdemo['gender'].value_counts()"
   ]
  },
  {
   "cell_type": "code",
   "execution_count": null,
   "id": "0a10155d",
   "metadata": {},
   "outputs": [],
   "source": [
    "#CustomerAddress dataset cleaning"
   ]
  },
  {
   "cell_type": "code",
   "execution_count": null,
   "id": "ed486da6",
   "metadata": {},
   "outputs": [],
   "source": [
    "cadd.head()"
   ]
  },
  {
   "cell_type": "code",
   "execution_count": 11,
   "id": "90f20b32",
   "metadata": {},
   "outputs": [
    {
     "data": {
      "text/plain": [
       "customer_id           0\n",
       "address               0\n",
       "postcode              0\n",
       "state                 0\n",
       "country               0\n",
       "property_valuation    0\n",
       "dtype: int64"
      ]
     },
     "execution_count": 11,
     "metadata": {},
     "output_type": "execute_result"
    }
   ],
   "source": [
    "#check null values in each column\n",
    "round((cadd.isnull().sum())).sort_values(ascending=False)"
   ]
  },
  {
   "cell_type": "code",
   "execution_count": 12,
   "id": "8afd9b3c",
   "metadata": {},
   "outputs": [
    {
     "data": {
      "text/plain": [
       "0"
      ]
     },
     "execution_count": 12,
     "metadata": {},
     "output_type": "execute_result"
    }
   ],
   "source": [
    "cadd.duplicated().sum()"
   ]
  },
  {
   "cell_type": "code",
   "execution_count": null,
   "id": "7f72fb2a",
   "metadata": {},
   "outputs": [],
   "source": [
    "cadd.info()"
   ]
  },
  {
   "cell_type": "code",
   "execution_count": null,
   "id": "8fb64f42",
   "metadata": {},
   "outputs": [],
   "source": [
    "cadd['state'].value_counts()"
   ]
  },
  {
   "cell_type": "code",
   "execution_count": 8,
   "id": "84a43191",
   "metadata": {},
   "outputs": [],
   "source": [
    "#normalizing values in state column\n",
    "cadd['state']=cadd['state'].replace('New South Wales', 'NSW').replace('Victoria', 'VIC')"
   ]
  },
  {
   "cell_type": "code",
   "execution_count": 9,
   "id": "5128300d",
   "metadata": {},
   "outputs": [
    {
     "data": {
      "text/plain": [
       "NSW    2140\n",
       "VIC    1021\n",
       "QLD     838\n",
       "Name: state, dtype: int64"
      ]
     },
     "execution_count": 9,
     "metadata": {},
     "output_type": "execute_result"
    }
   ],
   "source": [
    "cadd['state'].value_counts()"
   ]
  },
  {
   "cell_type": "code",
   "execution_count": null,
   "id": "3f7dc3f5",
   "metadata": {},
   "outputs": [],
   "source": [
    "#Transactions dataset cleaning"
   ]
  },
  {
   "cell_type": "code",
   "execution_count": null,
   "id": "07226a9b",
   "metadata": {},
   "outputs": [],
   "source": [
    "tran.head()"
   ]
  },
  {
   "cell_type": "code",
   "execution_count": 15,
   "id": "f3a0eb63",
   "metadata": {},
   "outputs": [
    {
     "data": {
      "text/plain": [
       "0"
      ]
     },
     "execution_count": 15,
     "metadata": {},
     "output_type": "execute_result"
    }
   ],
   "source": [
    "tran.duplicated().sum()"
   ]
  },
  {
   "cell_type": "code",
   "execution_count": 16,
   "id": "4a6b2316",
   "metadata": {},
   "outputs": [
    {
     "name": "stdout",
     "output_type": "stream",
     "text": [
      "<class 'pandas.core.frame.DataFrame'>\n",
      "RangeIndex: 20000 entries, 0 to 19999\n",
      "Data columns (total 13 columns):\n",
      " #   Column                   Non-Null Count  Dtype         \n",
      "---  ------                   --------------  -----         \n",
      " 0   transaction_id           20000 non-null  int64         \n",
      " 1   product_id               20000 non-null  int64         \n",
      " 2   customer_id              20000 non-null  int64         \n",
      " 3   transaction_date         20000 non-null  datetime64[ns]\n",
      " 4   online_order             19640 non-null  float64       \n",
      " 5   order_status             20000 non-null  object        \n",
      " 6   brand                    19803 non-null  object        \n",
      " 7   product_line             19803 non-null  object        \n",
      " 8   product_class            19803 non-null  object        \n",
      " 9   product_size             19803 non-null  object        \n",
      " 10  list_price               20000 non-null  float64       \n",
      " 11  standard_cost            19803 non-null  float64       \n",
      " 12  product_first_sold_date  19803 non-null  float64       \n",
      "dtypes: datetime64[ns](1), float64(4), int64(3), object(5)\n",
      "memory usage: 2.0+ MB\n"
     ]
    }
   ],
   "source": [
    "tran.info()"
   ]
  },
  {
   "cell_type": "code",
   "execution_count": 10,
   "id": "a4281157",
   "metadata": {},
   "outputs": [],
   "source": [
    "#converting excel date values to datetime format\n",
    "tran['product_first_sold_date']=pd.to_datetime(tran['product_first_sold_date'], unit='D', origin='1899-12-30')"
   ]
  },
  {
   "cell_type": "code",
   "execution_count": 18,
   "id": "314e9edc",
   "metadata": {},
   "outputs": [
    {
     "data": {
      "text/plain": [
       "online_order               360\n",
       "brand                      197\n",
       "product_line               197\n",
       "product_class              197\n",
       "product_size               197\n",
       "standard_cost              197\n",
       "product_first_sold_date    197\n",
       "transaction_id               0\n",
       "product_id                   0\n",
       "customer_id                  0\n",
       "transaction_date             0\n",
       "order_status                 0\n",
       "list_price                   0\n",
       "dtype: int64"
      ]
     },
     "execution_count": 18,
     "metadata": {},
     "output_type": "execute_result"
    }
   ],
   "source": [
    "#check null values in each column\n",
    "round((tran.isnull().sum())).sort_values(ascending=False)"
   ]
  },
  {
   "cell_type": "code",
   "execution_count": 11,
   "id": "4b826123",
   "metadata": {},
   "outputs": [
    {
     "data": {
      "text/html": [
       "<div>\n",
       "<style scoped>\n",
       "    .dataframe tbody tr th:only-of-type {\n",
       "        vertical-align: middle;\n",
       "    }\n",
       "\n",
       "    .dataframe tbody tr th {\n",
       "        vertical-align: top;\n",
       "    }\n",
       "\n",
       "    .dataframe thead th {\n",
       "        text-align: right;\n",
       "    }\n",
       "</style>\n",
       "<table border=\"1\" class=\"dataframe\">\n",
       "  <thead>\n",
       "    <tr style=\"text-align: right;\">\n",
       "      <th></th>\n",
       "      <th>transaction_id</th>\n",
       "      <th>product_id</th>\n",
       "      <th>customer_id</th>\n",
       "      <th>transaction_date</th>\n",
       "      <th>online_order</th>\n",
       "      <th>order_status</th>\n",
       "      <th>brand</th>\n",
       "      <th>product_line</th>\n",
       "      <th>product_class</th>\n",
       "      <th>product_size</th>\n",
       "      <th>list_price</th>\n",
       "      <th>standard_cost</th>\n",
       "      <th>product_first_sold_date</th>\n",
       "    </tr>\n",
       "  </thead>\n",
       "  <tbody>\n",
       "    <tr>\n",
       "      <th>97</th>\n",
       "      <td>98</td>\n",
       "      <td>49</td>\n",
       "      <td>333</td>\n",
       "      <td>2017-06-23</td>\n",
       "      <td>NaN</td>\n",
       "      <td>Approved</td>\n",
       "      <td>Trek Bicycles</td>\n",
       "      <td>Road</td>\n",
       "      <td>medium</td>\n",
       "      <td>medium</td>\n",
       "      <td>533.51</td>\n",
       "      <td>400.13</td>\n",
       "      <td>2003-07-21</td>\n",
       "    </tr>\n",
       "    <tr>\n",
       "      <th>136</th>\n",
       "      <td>137</td>\n",
       "      <td>0</td>\n",
       "      <td>431</td>\n",
       "      <td>2017-09-23</td>\n",
       "      <td>0.0</td>\n",
       "      <td>Approved</td>\n",
       "      <td>NaN</td>\n",
       "      <td>NaN</td>\n",
       "      <td>NaN</td>\n",
       "      <td>NaN</td>\n",
       "      <td>1942.61</td>\n",
       "      <td>NaN</td>\n",
       "      <td>NaT</td>\n",
       "    </tr>\n",
       "    <tr>\n",
       "      <th>159</th>\n",
       "      <td>160</td>\n",
       "      <td>0</td>\n",
       "      <td>3300</td>\n",
       "      <td>2017-08-27</td>\n",
       "      <td>0.0</td>\n",
       "      <td>Approved</td>\n",
       "      <td>NaN</td>\n",
       "      <td>NaN</td>\n",
       "      <td>NaN</td>\n",
       "      <td>NaN</td>\n",
       "      <td>1656.86</td>\n",
       "      <td>NaN</td>\n",
       "      <td>NaT</td>\n",
       "    </tr>\n",
       "    <tr>\n",
       "      <th>166</th>\n",
       "      <td>167</td>\n",
       "      <td>90</td>\n",
       "      <td>3177</td>\n",
       "      <td>2017-04-26</td>\n",
       "      <td>NaN</td>\n",
       "      <td>Approved</td>\n",
       "      <td>Norco Bicycles</td>\n",
       "      <td>Standard</td>\n",
       "      <td>low</td>\n",
       "      <td>medium</td>\n",
       "      <td>363.01</td>\n",
       "      <td>290.41</td>\n",
       "      <td>2005-05-10</td>\n",
       "    </tr>\n",
       "    <tr>\n",
       "      <th>169</th>\n",
       "      <td>170</td>\n",
       "      <td>6</td>\n",
       "      <td>404</td>\n",
       "      <td>2017-10-16</td>\n",
       "      <td>NaN</td>\n",
       "      <td>Approved</td>\n",
       "      <td>OHM Cycles</td>\n",
       "      <td>Standard</td>\n",
       "      <td>high</td>\n",
       "      <td>medium</td>\n",
       "      <td>227.88</td>\n",
       "      <td>136.73</td>\n",
       "      <td>2003-08-05</td>\n",
       "    </tr>\n",
       "    <tr>\n",
       "      <th>...</th>\n",
       "      <td>...</td>\n",
       "      <td>...</td>\n",
       "      <td>...</td>\n",
       "      <td>...</td>\n",
       "      <td>...</td>\n",
       "      <td>...</td>\n",
       "      <td>...</td>\n",
       "      <td>...</td>\n",
       "      <td>...</td>\n",
       "      <td>...</td>\n",
       "      <td>...</td>\n",
       "      <td>...</td>\n",
       "      <td>...</td>\n",
       "    </tr>\n",
       "    <tr>\n",
       "      <th>19635</th>\n",
       "      <td>19636</td>\n",
       "      <td>98</td>\n",
       "      <td>1389</td>\n",
       "      <td>2017-07-26</td>\n",
       "      <td>NaN</td>\n",
       "      <td>Approved</td>\n",
       "      <td>Trek Bicycles</td>\n",
       "      <td>Standard</td>\n",
       "      <td>high</td>\n",
       "      <td>medium</td>\n",
       "      <td>358.39</td>\n",
       "      <td>215.03</td>\n",
       "      <td>2004-01-16</td>\n",
       "    </tr>\n",
       "    <tr>\n",
       "      <th>19793</th>\n",
       "      <td>19794</td>\n",
       "      <td>0</td>\n",
       "      <td>2860</td>\n",
       "      <td>2017-01-13</td>\n",
       "      <td>0.0</td>\n",
       "      <td>Approved</td>\n",
       "      <td>NaN</td>\n",
       "      <td>NaN</td>\n",
       "      <td>NaN</td>\n",
       "      <td>NaN</td>\n",
       "      <td>868.56</td>\n",
       "      <td>NaN</td>\n",
       "      <td>NaT</td>\n",
       "    </tr>\n",
       "    <tr>\n",
       "      <th>19843</th>\n",
       "      <td>19844</td>\n",
       "      <td>3</td>\n",
       "      <td>8</td>\n",
       "      <td>2017-01-28</td>\n",
       "      <td>NaN</td>\n",
       "      <td>Approved</td>\n",
       "      <td>Trek Bicycles</td>\n",
       "      <td>Standard</td>\n",
       "      <td>medium</td>\n",
       "      <td>large</td>\n",
       "      <td>2091.47</td>\n",
       "      <td>388.92</td>\n",
       "      <td>2003-07-21</td>\n",
       "    </tr>\n",
       "    <tr>\n",
       "      <th>19859</th>\n",
       "      <td>19860</td>\n",
       "      <td>0</td>\n",
       "      <td>2468</td>\n",
       "      <td>2017-06-24</td>\n",
       "      <td>1.0</td>\n",
       "      <td>Approved</td>\n",
       "      <td>NaN</td>\n",
       "      <td>NaN</td>\n",
       "      <td>NaN</td>\n",
       "      <td>NaN</td>\n",
       "      <td>1497.43</td>\n",
       "      <td>NaN</td>\n",
       "      <td>NaT</td>\n",
       "    </tr>\n",
       "    <tr>\n",
       "      <th>19871</th>\n",
       "      <td>19872</td>\n",
       "      <td>0</td>\n",
       "      <td>61</td>\n",
       "      <td>2017-03-17</td>\n",
       "      <td>1.0</td>\n",
       "      <td>Approved</td>\n",
       "      <td>NaN</td>\n",
       "      <td>NaN</td>\n",
       "      <td>NaN</td>\n",
       "      <td>NaN</td>\n",
       "      <td>867.92</td>\n",
       "      <td>NaN</td>\n",
       "      <td>NaT</td>\n",
       "    </tr>\n",
       "  </tbody>\n",
       "</table>\n",
       "<p>555 rows × 13 columns</p>\n",
       "</div>"
      ],
      "text/plain": [
       "       transaction_id  product_id  customer_id transaction_date  online_order  \\\n",
       "97                 98          49          333       2017-06-23           NaN   \n",
       "136               137           0          431       2017-09-23           0.0   \n",
       "159               160           0         3300       2017-08-27           0.0   \n",
       "166               167          90         3177       2017-04-26           NaN   \n",
       "169               170           6          404       2017-10-16           NaN   \n",
       "...               ...         ...          ...              ...           ...   \n",
       "19635           19636          98         1389       2017-07-26           NaN   \n",
       "19793           19794           0         2860       2017-01-13           0.0   \n",
       "19843           19844           3            8       2017-01-28           NaN   \n",
       "19859           19860           0         2468       2017-06-24           1.0   \n",
       "19871           19872           0           61       2017-03-17           1.0   \n",
       "\n",
       "      order_status           brand product_line product_class product_size  \\\n",
       "97        Approved   Trek Bicycles         Road        medium       medium   \n",
       "136       Approved             NaN          NaN           NaN          NaN   \n",
       "159       Approved             NaN          NaN           NaN          NaN   \n",
       "166       Approved  Norco Bicycles     Standard           low       medium   \n",
       "169       Approved      OHM Cycles     Standard          high       medium   \n",
       "...            ...             ...          ...           ...          ...   \n",
       "19635     Approved   Trek Bicycles     Standard          high       medium   \n",
       "19793     Approved             NaN          NaN           NaN          NaN   \n",
       "19843     Approved   Trek Bicycles     Standard        medium        large   \n",
       "19859     Approved             NaN          NaN           NaN          NaN   \n",
       "19871     Approved             NaN          NaN           NaN          NaN   \n",
       "\n",
       "       list_price  standard_cost product_first_sold_date  \n",
       "97         533.51         400.13              2003-07-21  \n",
       "136       1942.61            NaN                     NaT  \n",
       "159       1656.86            NaN                     NaT  \n",
       "166        363.01         290.41              2005-05-10  \n",
       "169        227.88         136.73              2003-08-05  \n",
       "...           ...            ...                     ...  \n",
       "19635      358.39         215.03              2004-01-16  \n",
       "19793      868.56            NaN                     NaT  \n",
       "19843     2091.47         388.92              2003-07-21  \n",
       "19859     1497.43            NaN                     NaT  \n",
       "19871      867.92            NaN                     NaT  \n",
       "\n",
       "[555 rows x 13 columns]"
      ]
     },
     "execution_count": 11,
     "metadata": {},
     "output_type": "execute_result"
    }
   ],
   "source": [
    "tran[tran.isnull().any(axis=1)]"
   ]
  },
  {
   "cell_type": "code",
   "execution_count": 12,
   "id": "81e215a9",
   "metadata": {},
   "outputs": [],
   "source": [
    "#dropping null values from transaction dataset\n",
    "tran.dropna(inplace=True)"
   ]
  },
  {
   "cell_type": "code",
   "execution_count": 22,
   "id": "7a3fb340",
   "metadata": {},
   "outputs": [
    {
     "data": {
      "text/html": [
       "<div>\n",
       "<style scoped>\n",
       "    .dataframe tbody tr th:only-of-type {\n",
       "        vertical-align: middle;\n",
       "    }\n",
       "\n",
       "    .dataframe tbody tr th {\n",
       "        vertical-align: top;\n",
       "    }\n",
       "\n",
       "    .dataframe thead th {\n",
       "        text-align: right;\n",
       "    }\n",
       "</style>\n",
       "<table border=\"1\" class=\"dataframe\">\n",
       "  <thead>\n",
       "    <tr style=\"text-align: right;\">\n",
       "      <th></th>\n",
       "      <th>transaction_id</th>\n",
       "      <th>product_id</th>\n",
       "      <th>customer_id</th>\n",
       "      <th>transaction_date</th>\n",
       "      <th>online_order</th>\n",
       "      <th>order_status</th>\n",
       "      <th>brand</th>\n",
       "      <th>product_line</th>\n",
       "      <th>product_class</th>\n",
       "      <th>product_size</th>\n",
       "      <th>list_price</th>\n",
       "      <th>standard_cost</th>\n",
       "      <th>product_first_sold_date</th>\n",
       "    </tr>\n",
       "  </thead>\n",
       "  <tbody>\n",
       "    <tr>\n",
       "      <th>0</th>\n",
       "      <td>1</td>\n",
       "      <td>2</td>\n",
       "      <td>2950</td>\n",
       "      <td>2017-02-25</td>\n",
       "      <td>0.0</td>\n",
       "      <td>Approved</td>\n",
       "      <td>Solex</td>\n",
       "      <td>Standard</td>\n",
       "      <td>medium</td>\n",
       "      <td>medium</td>\n",
       "      <td>71.49</td>\n",
       "      <td>53.62</td>\n",
       "      <td>2012-12-02</td>\n",
       "    </tr>\n",
       "    <tr>\n",
       "      <th>1</th>\n",
       "      <td>2</td>\n",
       "      <td>3</td>\n",
       "      <td>3120</td>\n",
       "      <td>2017-05-21</td>\n",
       "      <td>1.0</td>\n",
       "      <td>Approved</td>\n",
       "      <td>Trek Bicycles</td>\n",
       "      <td>Standard</td>\n",
       "      <td>medium</td>\n",
       "      <td>large</td>\n",
       "      <td>2091.47</td>\n",
       "      <td>388.92</td>\n",
       "      <td>2014-03-03</td>\n",
       "    </tr>\n",
       "    <tr>\n",
       "      <th>2</th>\n",
       "      <td>3</td>\n",
       "      <td>37</td>\n",
       "      <td>402</td>\n",
       "      <td>2017-10-16</td>\n",
       "      <td>0.0</td>\n",
       "      <td>Approved</td>\n",
       "      <td>OHM Cycles</td>\n",
       "      <td>Standard</td>\n",
       "      <td>low</td>\n",
       "      <td>medium</td>\n",
       "      <td>1793.43</td>\n",
       "      <td>248.82</td>\n",
       "      <td>1999-07-20</td>\n",
       "    </tr>\n",
       "    <tr>\n",
       "      <th>3</th>\n",
       "      <td>4</td>\n",
       "      <td>88</td>\n",
       "      <td>3135</td>\n",
       "      <td>2017-08-31</td>\n",
       "      <td>0.0</td>\n",
       "      <td>Approved</td>\n",
       "      <td>Norco Bicycles</td>\n",
       "      <td>Standard</td>\n",
       "      <td>medium</td>\n",
       "      <td>medium</td>\n",
       "      <td>1198.46</td>\n",
       "      <td>381.10</td>\n",
       "      <td>1998-12-16</td>\n",
       "    </tr>\n",
       "    <tr>\n",
       "      <th>4</th>\n",
       "      <td>5</td>\n",
       "      <td>78</td>\n",
       "      <td>787</td>\n",
       "      <td>2017-10-01</td>\n",
       "      <td>1.0</td>\n",
       "      <td>Approved</td>\n",
       "      <td>Giant Bicycles</td>\n",
       "      <td>Standard</td>\n",
       "      <td>medium</td>\n",
       "      <td>large</td>\n",
       "      <td>1765.30</td>\n",
       "      <td>709.48</td>\n",
       "      <td>2015-08-10</td>\n",
       "    </tr>\n",
       "  </tbody>\n",
       "</table>\n",
       "</div>"
      ],
      "text/plain": [
       "   transaction_id  product_id  customer_id transaction_date  online_order  \\\n",
       "0               1           2         2950       2017-02-25           0.0   \n",
       "1               2           3         3120       2017-05-21           1.0   \n",
       "2               3          37          402       2017-10-16           0.0   \n",
       "3               4          88         3135       2017-08-31           0.0   \n",
       "4               5          78          787       2017-10-01           1.0   \n",
       "\n",
       "  order_status           brand product_line product_class product_size  \\\n",
       "0     Approved           Solex     Standard        medium       medium   \n",
       "1     Approved   Trek Bicycles     Standard        medium        large   \n",
       "2     Approved      OHM Cycles     Standard           low       medium   \n",
       "3     Approved  Norco Bicycles     Standard        medium       medium   \n",
       "4     Approved  Giant Bicycles     Standard        medium        large   \n",
       "\n",
       "   list_price  standard_cost product_first_sold_date  \n",
       "0       71.49          53.62              2012-12-02  \n",
       "1     2091.47         388.92              2014-03-03  \n",
       "2     1793.43         248.82              1999-07-20  \n",
       "3     1198.46         381.10              1998-12-16  \n",
       "4     1765.30         709.48              2015-08-10  "
      ]
     },
     "execution_count": 22,
     "metadata": {},
     "output_type": "execute_result"
    }
   ],
   "source": [
    "tran.head()"
   ]
  },
  {
   "cell_type": "code",
   "execution_count": 13,
   "id": "36ff19a4",
   "metadata": {},
   "outputs": [
    {
     "name": "stdout",
     "output_type": "stream",
     "text": [
      "Transactions  (19445, 13)\n",
      "CustomerDemographic  (4000, 13)\n",
      "CustomerAddress  (3999, 6)\n"
     ]
    }
   ],
   "source": [
    "print(\"Transactions \",tran.shape)\n",
    "print(\"CustomerDemographic \",cdemo.shape)\n",
    "print(\"CustomerAddress \",cadd.shape)"
   ]
  },
  {
   "cell_type": "code",
   "execution_count": 14,
   "id": "1dda69cd",
   "metadata": {},
   "outputs": [
    {
     "name": "stdout",
     "output_type": "stream",
     "text": [
      "Transactions  [   1    2    3 ... 3499 3500 5034]\n",
      "CustomerDemographic  [   1    2    3 ... 3998 3999 4000]\n",
      "CustomerAddress  [   1    2    4 ... 4001 4002 4003]\n"
     ]
    }
   ],
   "source": [
    "#unique customer ids in all 3 datasets\n",
    "print(\"Transactions \",tran['customer_id'].sort_values().unique())\n",
    "print(\"CustomerDemographic \",cdemo['customer_id'].sort_values().unique())\n",
    "print(\"CustomerAddress \",cadd['customer_id'].sort_values().unique())"
   ]
  },
  {
   "cell_type": "code",
   "execution_count": 18,
   "id": "85845d9c",
   "metadata": {},
   "outputs": [
    {
     "data": {
      "text/plain": [
       "19445"
      ]
     },
     "execution_count": 18,
     "metadata": {},
     "output_type": "execute_result"
    }
   ],
   "source": [
    "tran['customer_id'].value_counts().sum()"
   ]
  },
  {
   "cell_type": "code",
   "execution_count": null,
   "id": "cc25322d",
   "metadata": {},
   "outputs": [],
   "source": [
    "#CustomerDemographic has upto 4000 ids, whereas CustomerAddress has extra 3 ids, Transaction has extra id"
   ]
  },
  {
   "cell_type": "code",
   "execution_count": 19,
   "id": "4140d4bd",
   "metadata": {},
   "outputs": [],
   "source": [
    "#merge all 3 datasets, assuming CustomerDemographic as master data\n",
    "merged=cdemo.merge(cadd,on='customer_id').merge(tran, on='customer_id')"
   ]
  },
  {
   "cell_type": "code",
   "execution_count": 20,
   "id": "2a217f9a",
   "metadata": {},
   "outputs": [
    {
     "data": {
      "text/plain": [
       "(19416, 30)"
      ]
     },
     "execution_count": 20,
     "metadata": {},
     "output_type": "execute_result"
    }
   ],
   "source": [
    "merged.shape"
   ]
  },
  {
   "cell_type": "code",
   "execution_count": 21,
   "id": "2fd55fba",
   "metadata": {},
   "outputs": [
    {
     "data": {
      "text/html": [
       "<div>\n",
       "<style scoped>\n",
       "    .dataframe tbody tr th:only-of-type {\n",
       "        vertical-align: middle;\n",
       "    }\n",
       "\n",
       "    .dataframe tbody tr th {\n",
       "        vertical-align: top;\n",
       "    }\n",
       "\n",
       "    .dataframe thead th {\n",
       "        text-align: right;\n",
       "    }\n",
       "</style>\n",
       "<table border=\"1\" class=\"dataframe\">\n",
       "  <thead>\n",
       "    <tr style=\"text-align: right;\">\n",
       "      <th></th>\n",
       "      <th>customer_id</th>\n",
       "      <th>first_name</th>\n",
       "      <th>last_name</th>\n",
       "      <th>gender</th>\n",
       "      <th>past_3_years_bike_related_purchases</th>\n",
       "      <th>DOB</th>\n",
       "      <th>job_title</th>\n",
       "      <th>job_industry_category</th>\n",
       "      <th>wealth_segment</th>\n",
       "      <th>deceased_indicator</th>\n",
       "      <th>...</th>\n",
       "      <th>transaction_date</th>\n",
       "      <th>online_order</th>\n",
       "      <th>order_status</th>\n",
       "      <th>brand</th>\n",
       "      <th>product_line</th>\n",
       "      <th>product_class</th>\n",
       "      <th>product_size</th>\n",
       "      <th>list_price</th>\n",
       "      <th>standard_cost</th>\n",
       "      <th>product_first_sold_date</th>\n",
       "    </tr>\n",
       "  </thead>\n",
       "  <tbody>\n",
       "    <tr>\n",
       "      <th>0</th>\n",
       "      <td>1</td>\n",
       "      <td>Laraine</td>\n",
       "      <td>Medendorp</td>\n",
       "      <td>F</td>\n",
       "      <td>93</td>\n",
       "      <td>1953-10-12</td>\n",
       "      <td>Executive Secretary</td>\n",
       "      <td>Health</td>\n",
       "      <td>Mass Customer</td>\n",
       "      <td>N</td>\n",
       "      <td>...</td>\n",
       "      <td>2017-12-23</td>\n",
       "      <td>0.0</td>\n",
       "      <td>Approved</td>\n",
       "      <td>OHM Cycles</td>\n",
       "      <td>Standard</td>\n",
       "      <td>medium</td>\n",
       "      <td>medium</td>\n",
       "      <td>235.63</td>\n",
       "      <td>125.07</td>\n",
       "      <td>2005-05-10</td>\n",
       "    </tr>\n",
       "    <tr>\n",
       "      <th>1</th>\n",
       "      <td>1</td>\n",
       "      <td>Laraine</td>\n",
       "      <td>Medendorp</td>\n",
       "      <td>F</td>\n",
       "      <td>93</td>\n",
       "      <td>1953-10-12</td>\n",
       "      <td>Executive Secretary</td>\n",
       "      <td>Health</td>\n",
       "      <td>Mass Customer</td>\n",
       "      <td>N</td>\n",
       "      <td>...</td>\n",
       "      <td>2017-04-06</td>\n",
       "      <td>1.0</td>\n",
       "      <td>Approved</td>\n",
       "      <td>Solex</td>\n",
       "      <td>Standard</td>\n",
       "      <td>medium</td>\n",
       "      <td>medium</td>\n",
       "      <td>1577.53</td>\n",
       "      <td>826.51</td>\n",
       "      <td>2008-03-19</td>\n",
       "    </tr>\n",
       "    <tr>\n",
       "      <th>2</th>\n",
       "      <td>1</td>\n",
       "      <td>Laraine</td>\n",
       "      <td>Medendorp</td>\n",
       "      <td>F</td>\n",
       "      <td>93</td>\n",
       "      <td>1953-10-12</td>\n",
       "      <td>Executive Secretary</td>\n",
       "      <td>Health</td>\n",
       "      <td>Mass Customer</td>\n",
       "      <td>N</td>\n",
       "      <td>...</td>\n",
       "      <td>2017-05-11</td>\n",
       "      <td>1.0</td>\n",
       "      <td>Approved</td>\n",
       "      <td>Trek Bicycles</td>\n",
       "      <td>Road</td>\n",
       "      <td>low</td>\n",
       "      <td>small</td>\n",
       "      <td>1720.70</td>\n",
       "      <td>1531.42</td>\n",
       "      <td>2003-07-21</td>\n",
       "    </tr>\n",
       "    <tr>\n",
       "      <th>3</th>\n",
       "      <td>1</td>\n",
       "      <td>Laraine</td>\n",
       "      <td>Medendorp</td>\n",
       "      <td>F</td>\n",
       "      <td>93</td>\n",
       "      <td>1953-10-12</td>\n",
       "      <td>Executive Secretary</td>\n",
       "      <td>Health</td>\n",
       "      <td>Mass Customer</td>\n",
       "      <td>N</td>\n",
       "      <td>...</td>\n",
       "      <td>2017-01-05</td>\n",
       "      <td>0.0</td>\n",
       "      <td>Approved</td>\n",
       "      <td>Norco Bicycles</td>\n",
       "      <td>Standard</td>\n",
       "      <td>medium</td>\n",
       "      <td>medium</td>\n",
       "      <td>360.40</td>\n",
       "      <td>270.30</td>\n",
       "      <td>2003-09-09</td>\n",
       "    </tr>\n",
       "    <tr>\n",
       "      <th>4</th>\n",
       "      <td>1</td>\n",
       "      <td>Laraine</td>\n",
       "      <td>Medendorp</td>\n",
       "      <td>F</td>\n",
       "      <td>93</td>\n",
       "      <td>1953-10-12</td>\n",
       "      <td>Executive Secretary</td>\n",
       "      <td>Health</td>\n",
       "      <td>Mass Customer</td>\n",
       "      <td>N</td>\n",
       "      <td>...</td>\n",
       "      <td>2017-02-21</td>\n",
       "      <td>0.0</td>\n",
       "      <td>Approved</td>\n",
       "      <td>Solex</td>\n",
       "      <td>Standard</td>\n",
       "      <td>medium</td>\n",
       "      <td>medium</td>\n",
       "      <td>71.49</td>\n",
       "      <td>53.62</td>\n",
       "      <td>2005-08-09</td>\n",
       "    </tr>\n",
       "  </tbody>\n",
       "</table>\n",
       "<p>5 rows × 30 columns</p>\n",
       "</div>"
      ],
      "text/plain": [
       "   customer_id first_name  last_name gender  \\\n",
       "0            1    Laraine  Medendorp      F   \n",
       "1            1    Laraine  Medendorp      F   \n",
       "2            1    Laraine  Medendorp      F   \n",
       "3            1    Laraine  Medendorp      F   \n",
       "4            1    Laraine  Medendorp      F   \n",
       "\n",
       "   past_3_years_bike_related_purchases        DOB            job_title  \\\n",
       "0                                   93 1953-10-12  Executive Secretary   \n",
       "1                                   93 1953-10-12  Executive Secretary   \n",
       "2                                   93 1953-10-12  Executive Secretary   \n",
       "3                                   93 1953-10-12  Executive Secretary   \n",
       "4                                   93 1953-10-12  Executive Secretary   \n",
       "\n",
       "  job_industry_category wealth_segment deceased_indicator  ...  \\\n",
       "0                Health  Mass Customer                  N  ...   \n",
       "1                Health  Mass Customer                  N  ...   \n",
       "2                Health  Mass Customer                  N  ...   \n",
       "3                Health  Mass Customer                  N  ...   \n",
       "4                Health  Mass Customer                  N  ...   \n",
       "\n",
       "  transaction_date  online_order  order_status           brand  product_line  \\\n",
       "0       2017-12-23           0.0      Approved      OHM Cycles      Standard   \n",
       "1       2017-04-06           1.0      Approved           Solex      Standard   \n",
       "2       2017-05-11           1.0      Approved   Trek Bicycles          Road   \n",
       "3       2017-01-05           0.0      Approved  Norco Bicycles      Standard   \n",
       "4       2017-02-21           0.0      Approved           Solex      Standard   \n",
       "\n",
       "  product_class product_size  list_price  standard_cost  \\\n",
       "0        medium       medium      235.63         125.07   \n",
       "1        medium       medium     1577.53         826.51   \n",
       "2           low        small     1720.70        1531.42   \n",
       "3        medium       medium      360.40         270.30   \n",
       "4        medium       medium       71.49          53.62   \n",
       "\n",
       "   product_first_sold_date  \n",
       "0               2005-05-10  \n",
       "1               2008-03-19  \n",
       "2               2003-07-21  \n",
       "3               2003-09-09  \n",
       "4               2005-08-09  \n",
       "\n",
       "[5 rows x 30 columns]"
      ]
     },
     "execution_count": 21,
     "metadata": {},
     "output_type": "execute_result"
    }
   ],
   "source": [
    "merged.head()"
   ]
  },
  {
   "cell_type": "code",
   "execution_count": 23,
   "id": "6724844c",
   "metadata": {},
   "outputs": [],
   "source": [
    "outpath=r\"C:\\path\\KPMG_VI_merged.xlsx\"\n",
    "merged.to_excel(outpath, sheet_name='MergedDataset', index=False)"
   ]
  },
  {
   "cell_type": "code",
   "execution_count": null,
   "id": "7b5f3ce8",
   "metadata": {},
   "outputs": [],
   "source": []
  }
 ],
 "metadata": {
  "kernelspec": {
   "display_name": "Python 3 (ipykernel)",
   "language": "python",
   "name": "python3"
  },
  "language_info": {
   "codemirror_mode": {
    "name": "ipython",
    "version": 3
   },
   "file_extension": ".py",
   "mimetype": "text/x-python",
   "name": "python",
   "nbconvert_exporter": "python",
   "pygments_lexer": "ipython3",
   "version": "3.9.12"
  }
 },
 "nbformat": 4,
 "nbformat_minor": 5
}
